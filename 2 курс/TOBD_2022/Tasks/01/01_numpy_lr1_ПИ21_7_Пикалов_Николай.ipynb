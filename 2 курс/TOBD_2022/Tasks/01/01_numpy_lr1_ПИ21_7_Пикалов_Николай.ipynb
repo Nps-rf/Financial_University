{
 "cells": [
  {
   "cell_type": "markdown",
   "metadata": {
    "id": "fXbKeAWqUhp1"
   },
   "source": [
    "# Numpy"
   ]
  },
  {
   "cell_type": "markdown",
   "metadata": {
    "id": "YZcqghNyUhp5"
   },
   "source": [
    "Материалы:\n",
    "* Макрушин С.В. \"Лекция 1: Библиотека Numpy\"\n",
    "* https://numpy.org/doc/stable/user/index.html\n",
    "* https://numpy.org/doc/stable/reference/index.html"
   ]
  },
  {
   "cell_type": "markdown",
   "metadata": {
    "id": "_Lp9IMYrUhp6"
   },
   "source": [
    "## Задачи для совместного разбора"
   ]
  },
  {
   "cell_type": "code",
   "execution_count": 2,
   "metadata": {
    "id": "46m3Zig5VwXE"
   },
   "outputs": [],
   "source": [
    "import numpy as np\n",
    "import pandas as pd"
   ]
  },
  {
   "cell_type": "markdown",
   "metadata": {
    "id": "okd6zgPXUhp7"
   },
   "source": [
    "1. Сгенерировать двухмерный массив `arr` размерности (4, 7), состоящий из случайных действительных чисел, равномерно распределенных в диапазоне от 0 до 20. Нормализовать значения массива с помощью преобразования вида  $𝑎𝑥+𝑏$  так, что после нормализации максимальный элемент масcива будет равен 1.0, минимальный 0.0"
   ]
  },
  {
   "cell_type": "code",
   "execution_count": 6,
   "metadata": {
    "id": "e-BmaDE7VsCi",
    "scrolled": true
   },
   "outputs": [
    {
     "data": {
      "text/plain": [
       "array([[0.32611454, 0.05203972, 0.52816728, 0.0807229 , 0.19152091,\n",
       "        0.35937973, 0.10814084],\n",
       "       [0.        , 0.69907056, 0.32876071, 0.15154078, 0.21541381,\n",
       "        0.36727913, 1.        ],\n",
       "       [0.77761872, 0.87652733, 0.83159426, 0.7487707 , 0.55214041,\n",
       "        0.01752007, 0.62123522],\n",
       "       [0.24233355, 0.63658146, 0.14354185, 0.75217015, 0.84951029,\n",
       "        0.64075251, 0.61972159]])"
      ]
     },
     "execution_count": 6,
     "metadata": {},
     "output_type": "execute_result"
    }
   ],
   "source": [
    "array = np.random.uniform(low=0, high=20, size=(4, 7))\n",
    "a_min = np.min(array)\n",
    "a_max = np.max(array)\n",
    "(array - a_min) / (np.amax(array) - a_min)"
   ]
  },
  {
   "cell_type": "markdown",
   "metadata": {},
   "source": [
    "np.amax - Возвращает максимум массива или максимум на оси если указана вторым аргументом."
   ]
  },
  {
   "cell_type": "markdown",
   "metadata": {
    "id": "hfrHsjJZUhp7"
   },
   "source": [
    "2. Создать матрицу 8 на 10 из случайных целых (используя модуль `numpy.random`) чисел из диапозона от 0 до 10 и найти в ней строку (ее индекс и вывести саму строку), в которой сумма значений минимальна."
   ]
  },
  {
   "cell_type": "code",
   "execution_count": 9,
   "metadata": {
    "scrolled": true
   },
   "outputs": [
    {
     "data": {
      "text/plain": [
       "array([[5, 6, 8, 8, 9, 0, 8, 5, 6, 7],\n",
       "       [0, 4, 0, 0, 8, 1, 6, 4, 0, 6],\n",
       "       [6, 4, 1, 5, 9, 6, 8, 3, 4, 2],\n",
       "       [0, 7, 5, 5, 1, 8, 3, 7, 5, 4],\n",
       "       [4, 9, 5, 6, 6, 4, 1, 5, 8, 0],\n",
       "       [7, 7, 2, 1, 3, 9, 7, 6, 1, 7],\n",
       "       [5, 9, 7, 1, 3, 6, 3, 6, 3, 4],\n",
       "       [7, 1, 9, 2, 8, 2, 7, 1, 5, 7]])"
      ]
     },
     "execution_count": 9,
     "metadata": {},
     "output_type": "execute_result"
    }
   ],
   "source": [
    "array = np.random.randint(0, 10, size=(8, 10))\n",
    "array"
   ]
  },
  {
   "cell_type": "code",
   "execution_count": 12,
   "metadata": {},
   "outputs": [
    {
     "name": "stdout",
     "output_type": "stream",
     "text": [
      "1\n"
     ]
    },
    {
     "data": {
      "text/plain": [
       "array([0, 4, 0, 0, 8, 1, 6, 4, 0, 6])"
      ]
     },
     "execution_count": 12,
     "metadata": {},
     "output_type": "execute_result"
    }
   ],
   "source": [
    "min_index = np.argmin(array.sum(axis=1))\n",
    "print(min_index)\n",
    "array[min_index, :]"
   ]
  },
  {
   "cell_type": "markdown",
   "metadata": {
    "id": "N0XjqYggUhp8"
   },
   "source": [
    "3. Найти евклидово расстояние между двумя одномерными векторами одинаковой размерности."
   ]
  },
  {
   "cell_type": "code",
   "execution_count": 8,
   "metadata": {
    "scrolled": false
   },
   "outputs": [
    {
     "name": "stdout",
     "output_type": "stream",
     "text": [
      "[7 9 9 9 4 5 4 3 6 2]\n",
      "[3 7 9 1 2 7 6 0 1 6]\n",
      "12.083045973594572\n"
     ]
    },
    {
     "data": {
      "text/plain": [
       "12.083045973594572"
      ]
     },
     "execution_count": 8,
     "metadata": {},
     "output_type": "execute_result"
    }
   ],
   "source": [
    "array1 = np.random.randint(0, 10, size=10)\n",
    "print(array1)\n",
    "array2 = np.random.randint(0, 10, size=10)\n",
    "print(array2)\n",
    "distance_auto = np.linalg.norm(array1 - array2)\n",
    "print(distance_auto)\n",
    "\n",
    "euclidean_distance = np.sum((array1 - array2) ** 2) ** (1 / 2)\n",
    "\n",
    "euclidean_distance"
   ]
  },
  {
   "cell_type": "markdown",
   "metadata": {
    "id": "vJPMobNCUhp8"
   },
   "source": [
    "4. Решить матричное уравнение `A*X*B=-C` - найти матрицу `X`. Где `A = [[-1, 2, 4], [-3, 1, 2], [-3, 0, 1]]`, `B=[[3, -1], [2, 1]]`, `C=[[7, 21], [11, 8], [8, 4]]`."
   ]
  },
  {
   "cell_type": "code",
   "execution_count": 22,
   "metadata": {},
   "outputs": [
    {
     "data": {
      "text/plain": [
       "matrix([[ 1.00000000e+00,  5.32907052e-16],\n",
       "        [-2.00000000e+00,  1.00000000e+00],\n",
       "        [ 3.00000000e+00, -4.00000000e+00]])"
      ]
     },
     "execution_count": 22,
     "metadata": {},
     "output_type": "execute_result"
    }
   ],
   "source": [
    "a = np.matrix([[-1, 2, 4], [-3, 1, 2], [-3, 0, 1]])\n",
    "b = np.matrix([[3, -1], [2, 1]])\n",
    "c = np.matrix([[7, 21], [11, 8], [8, 4]])\n",
    "\n",
    "result1 = np.linalg.inv(a) @ -c @ np.linalg.inv(b) # @ -> matmul (Матричное произведение двух массивов)\n",
    "result1"
   ]
  },
  {
   "cell_type": "markdown",
   "metadata": {
    "id": "LaYQ0PVBUhp9"
   },
   "source": [
    "## Лабораторная работа №1.1"
   ]
  },
  {
   "cell_type": "markdown",
   "metadata": {
    "id": "fGA-7DqYUhp9"
   },
   "source": [
    "Замечание: при решении данных задач не подразумевается использования циклов или генераторов Python, если в задании не сказано обратного. Решение должно опираться на использования функционала библиотеки `numpy`."
   ]
  },
  {
   "cell_type": "markdown",
   "metadata": {
    "id": "5S2uhUo4Uhp-"
   },
   "source": [
    "1. Файл `minutes_n_ingredients.csv` содержит информацию об идентификаторе рецепта, времени его выполнения в минутах и количестве необходимых ингредиентов. Считайте данные из этого файла в виде массива `numpy` типа `int32`, используя `np.loadtxt`. Выведите на экран первые 5 строк массива.\n"
   ]
  },
  {
   "cell_type": "code",
   "execution_count": 6,
   "metadata": {},
   "outputs": [
    {
     "data": {
      "text/plain": [
       "array([[127244,     60,     16],\n",
       "       [ 23891,     25,      7],\n",
       "       [ 94746,     10,      6],\n",
       "       [ 67660,      5,      6],\n",
       "       [157911,     60,     14]])"
      ]
     },
     "execution_count": 6,
     "metadata": {},
     "output_type": "execute_result"
    }
   ],
   "source": [
    "data = np.loadtxt(\"data/minutes_n_ingredients.csv\", dtype=int, delimiter=\",\", skiprows=1)\n",
    "data[:5]"
   ]
  },
  {
   "cell_type": "markdown",
   "metadata": {
    "id": "Yf_PYGLfUhp-"
   },
   "source": [
    "2. Вычислите среднее значение, минимум, максимум и медиану по каждому из столбцов, кроме первого."
   ]
  },
  {
   "cell_type": "code",
   "execution_count": 10,
   "metadata": {},
   "outputs": [
    {
     "name": "stdout",
     "output_type": "stream",
     "text": [
      "Минимальное: 0\n",
      "Максимальное: 2147483647\n",
      "Медиана: 40.0\n",
      "\n",
      "Минимальное: 1\n",
      "Максимальное: 39\n",
      "Медиана: 9.0\n",
      "\n",
      "Минимальное: [0 1]\n",
      "Максимальное: [2147483647         39]\n",
      "Медиана: [40.  9.]\n",
      "\n"
     ]
    }
   ],
   "source": [
    "column = 1\n",
    "print(f\"Минимальное: {np.min(data[:, column])}\", f\"Максимальное: {np.max(data[:, column])}\", f\"Медиана: {np.median(data[:, column])}\", sep='\\n', end='\\n\\n')\n",
    "\n",
    "column = 2\n",
    "print(f\"Минимальное: {np.min(data[:, column])}\", f\"Максимальное: {np.max(data[:, column])}\", f\"Медиана: {np.median(data[:, column])}\", sep='\\n', end='\\n\\n')\n",
    "\n",
    "\n",
    "\n",
    "print(f\"Минимальное: {np.min(data[:, 1:], axis=0)}\", f\"Максимальное: {np.max(data[:, 1:], axis=0)}\", f\"Медиана: {np.median(data[:, 1:], axis=0)}\", sep='\\n', end='\\n\\n')"
   ]
  },
  {
   "cell_type": "markdown",
   "metadata": {
    "id": "SOggGNyHUhp_"
   },
   "source": [
    "3. Ограничьте сверху значения продолжительности выполнения рецепта значением квантиля $q_{0.75}$. "
   ]
  },
  {
   "cell_type": "code",
   "execution_count": 12,
   "metadata": {},
   "outputs": [
    {
     "data": {
      "text/plain": [
       "array([[127244,     60,     16],\n",
       "       [ 23891,     25,      7],\n",
       "       [ 94746,     10,      6],\n",
       "       ...,\n",
       "       [ 43407,     35,      7],\n",
       "       [498432,     65,     15],\n",
       "       [370915,      5,      4]])"
      ]
     },
     "execution_count": 12,
     "metadata": {},
     "output_type": "execute_result"
    }
   ],
   "source": [
    "quantile = 0.75\n",
    "koshkas = np.quantile(data[:,1], quantile)\n",
    "mask = data[:,1] <= koshkas\n",
    "data[mask]"
   ]
  },
  {
   "cell_type": "markdown",
   "metadata": {
    "id": "zVf1YMTTUhp_"
   },
   "source": [
    "4. Посчитайте, для скольких рецептов указана продолжительность, равная нулю. Замените для таких строк значение в данном столбце на 1."
   ]
  },
  {
   "cell_type": "code",
   "execution_count": 19,
   "metadata": {
    "scrolled": true
   },
   "outputs": [
    {
     "name": "stdout",
     "output_type": "stream",
     "text": [
      "479\n",
      "[[127244     60     16]\n",
      " [ 23891     25      7]\n",
      " [ 94746     10      6]\n",
      " ...\n",
      " [498432     65     15]\n",
      " [370915      5      4]\n",
      " [ 81993    140     14]]\n",
      "[[127244     60     16]\n",
      " [ 23891     25      7]\n",
      " [ 94746     10      6]\n",
      " ...\n",
      " [498432     65     15]\n",
      " [370915      5      4]\n",
      " [ 81993    140     14]]\n"
     ]
    },
    {
     "data": {
      "text/plain": [
       "479"
      ]
     },
     "execution_count": 19,
     "metadata": {},
     "output_type": "execute_result"
    }
   ],
   "source": [
    "def count(data: np.matrix) -> int: return data[mask].shape[0], data[:, 1] == 0\n",
    "\n",
    "count, mask = count(data)\n",
    "print(count)\n",
    "formatted_data = data.copy()\n",
    "print(formatted_data)\n",
    "formatted_data[mask, 1] = 1\n",
    "print(formatted_data)\n",
    "\n",
    "count, ____ = counter(formatted_data)\n",
    "count"
   ]
  },
  {
   "cell_type": "markdown",
   "metadata": {
    "id": "GeSrnvddUhp_"
   },
   "source": [
    "5. Посчитайте, сколько уникальных рецептов находится в датасете."
   ]
  },
  {
   "cell_type": "code",
   "execution_count": 20,
   "metadata": {},
   "outputs": [
    {
     "name": "stdout",
     "output_type": "stream",
     "text": [
      "(100000, 3)\n"
     ]
    },
    {
     "data": {
      "text/plain": [
       "(100000, 3)"
      ]
     },
     "execution_count": 20,
     "metadata": {},
     "output_type": "execute_result"
    }
   ],
   "source": [
    "print(formatted_data.shape)\n",
    "unique_rows = np.unique(formatted_data, axis=0)\n",
    "unique_rows.shape"
   ]
  },
  {
   "cell_type": "markdown",
   "metadata": {
    "id": "-N668EY_Uhp_"
   },
   "source": [
    "6. Сколько и каких различных значений кол-ва ингредиентов присутвует в рецептах из датасета?"
   ]
  },
  {
   "cell_type": "code",
   "execution_count": 22,
   "metadata": {},
   "outputs": [
    {
     "name": "stdout",
     "output_type": "stream",
     "text": [
      "Всего уникальных ингредиентов: 37\n"
     ]
    },
    {
     "data": {
      "text/plain": [
       "{13: 1,\n",
       " 926: 2,\n",
       " 2895: 3,\n",
       " 5515: 4,\n",
       " 7913: 5,\n",
       " 9376: 6,\n",
       " 10628: 7,\n",
       " 10951: 8,\n",
       " 10585: 9,\n",
       " 9591: 10,\n",
       " 8297: 11,\n",
       " 6605: 12,\n",
       " 4997: 13,\n",
       " 3663: 14,\n",
       " 2595: 15,\n",
       " 1767: 16,\n",
       " 1246: 17,\n",
       " 790: 18,\n",
       " 573: 19,\n",
       " 376: 20,\n",
       " 217: 21,\n",
       " 161: 22,\n",
       " 105: 23,\n",
       " 69: 24,\n",
       " 50: 25,\n",
       " 28: 26,\n",
       " 16: 28,\n",
       " 12: 30,\n",
       " 3: 35,\n",
       " 1: 39,\n",
       " 2: 33}"
      ]
     },
     "execution_count": 22,
     "metadata": {},
     "output_type": "execute_result"
    }
   ],
   "source": [
    "unique, counts = np.unique(new_data[:, 2], return_counts=True)\n",
    "print(\"Всего уникальных ингредиентов:\", len(unique))\n",
    "dict(zip(counts,unique))"
   ]
  },
  {
   "cell_type": "markdown",
   "metadata": {
    "id": "9k54aoBXUhqA"
   },
   "source": [
    "## Лабораторная работа №1.2"
   ]
  },
  {
   "cell_type": "markdown",
   "metadata": {
    "id": "FkVDv-bJUhqA"
   },
   "source": [
    "7. Создайте версию массива, содержащую информацию только о рецептах, состоящих не более чем из 5 ингредиентов."
   ]
  },
  {
   "cell_type": "markdown",
   "metadata": {
    "id": "qBCCU2ihUhqA"
   },
   "source": [
    "8. Для каждого рецепта посчитайте, сколько в среднем ингредиентов приходится на одну минуту рецепта. Найдите максимальное значение этой величины для всего датасета"
   ]
  },
  {
   "cell_type": "markdown",
   "metadata": {
    "id": "dTMTB3UDUhqA"
   },
   "source": [
    "9. Вычислите среднее количество ингредиентов для топ-100 рецептов с наибольшей продолжительностью"
   ]
  },
  {
   "cell_type": "markdown",
   "metadata": {
    "id": "rW-vqXX_UhqB"
   },
   "source": [
    "10. Выберите случайным образом и выведите информацию о 10 различных рецептах"
   ]
  },
  {
   "cell_type": "markdown",
   "metadata": {
    "id": "jcLCaD_FUhqB"
   },
   "source": [
    "11. Выведите процент рецептов, кол-во ингредиентов в которых меньше среднего."
   ]
  },
  {
   "cell_type": "markdown",
   "metadata": {
    "id": "UWL6jCPFUhqB"
   },
   "source": [
    "12. Назовем \"простым\" такой рецепт, длительность выполнения которого не больше 20 минут и кол-во ингредиентов в котором не больше 5. Создайте версию датасета с дополнительным столбцом, значениями которого являются 1, если рецепт простой, и 0 в противном случае."
   ]
  },
  {
   "cell_type": "markdown",
   "metadata": {
    "id": "_vjfv_GbUhqB"
   },
   "source": [
    "13. Выведите процент \"простых\" рецептов в датасете"
   ]
  },
  {
   "cell_type": "markdown",
   "metadata": {
    "id": "mBfdHNFjUhqC"
   },
   "source": [
    "14. Разделим рецепты на группы по следующему правилу. Назовем рецепты короткими, если их продолжительность составляет менее 10 минут; стандартными, если их продолжительность составляет более 10, но менее 20 минут; и длинными, если их продолжительность составляет не менее 20 минут. Создайте трехмерный массив, где нулевая ось отвечает за номер группы (короткий, стандартный или длинный рецепт), первая ось - за сам рецепт и вторая ось - за характеристики рецепта. Выберите максимальное количество рецептов из каждой группы таким образом, чтобы было возможно сформировать трехмерный массив. Выведите форму полученного массива."
   ]
  }
 ],
 "metadata": {
  "colab": {
   "collapsed_sections": [],
   "provenance": []
  },
  "kernelspec": {
   "display_name": "Python 3 (ipykernel)",
   "language": "python",
   "name": "python3"
  },
  "language_info": {
   "codemirror_mode": {
    "name": "ipython",
    "version": 3
   },
   "file_extension": ".py",
   "mimetype": "text/x-python",
   "name": "python",
   "nbconvert_exporter": "python",
   "pygments_lexer": "ipython3",
   "version": "3.10.3"
  }
 },
 "nbformat": 4,
 "nbformat_minor": 1
}
