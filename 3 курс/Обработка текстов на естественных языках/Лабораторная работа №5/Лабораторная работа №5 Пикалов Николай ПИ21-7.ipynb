{
 "cells": [
  {
   "cell_type": "markdown",
   "id": "0425ac61-740a-44a5-ae6c-7a23d7f3cf17",
   "metadata": {},
   "source": [
    "# 🧑‍🔬 Лабораторная работа №5\n",
    "## 🙋 Пикалов Николай Николаевич\n",
    "## 📚 ПИ21-7\n",
    "## 📅 06.12.2023"
   ]
  },
  {
   "cell_type": "markdown",
   "id": "bfb3aa87-431a-4202-94ae-00a9b22be0af",
   "metadata": {},
   "source": [
    "## 🔰 Задание 1 Изучите технологии attention и архитектуры нейронных сетей трансформеров."
   ]
  },
  {
   "cell_type": "markdown",
   "id": "ee3ba3df-908f-4ebc-8c55-b9b35041d69b",
   "metadata": {},
   "source": [
    "## Технология Attention и Архитектура Трансформеров 🤖📘\n",
    "\n",
    "### Технология Attention 👀\n",
    "\n",
    "- **Определение**: Attention — это механизм в нейросетях, позволяющий модели сфокусироваться на определенных частях входных данных, что улучшает качество обработки естественного языка и перевода.\n",
    "- **Функционал**: Позволяет модели определять важность различных частей входных данных, например, слов в предложении, для более точного вывода.\n",
    "- **Применение**: Особенно полезен в задачах обработки естественного языка, таких как машинный перевод, генерация текста, распознавание речи)\n",
    "\n",
    "## Архитектура Трансформеров ⚙️📚\n",
    "\n",
    "- **Основа**: Трансформеры — это тип архитектуры нейронных сетей, основанный на полностью связанных слоях без использования рекуррентных связей.\n",
    "- **Состав**: Архитектура включает в себя блоки кодировщика и декодировщика. Каждый блок состоит из подслоев, таких как:\n",
    "  - **Многослойные перцептроны (MLP)**: Используются для обработки информации внутри каждого блока.\n",
    "  - **Механизмы самовнимания (Self-Attention)**: Позволяют каждому элементу входных данных взаимодействовать с другими элементами для получения более глубокого понимания контекста.\n",
    "- **Преимущества**: Трансформеры обеспечивают высокую скорость обработки и точность, особенно для длинных последовательностей данных."
   ]
  },
  {
   "cell_type": "markdown",
   "id": "b4601377-52c7-462e-a59c-d99dc1fbdccb",
   "metadata": {},
   "source": [
    "## 🔰 Задание 2 \n",
    "### 🗨️ Примените один из трансформеров, например BERT к задаче классификации отзывов клиентов.\n",
    "### 🗨️ Сравните полученные результаты классическими методами машинного обучения, с RNN.\n",
    "### 🗨️ Сделайте выводы."
   ]
  },
  {
   "cell_type": "code",
   "execution_count": 5,
   "id": "674dfb01-26fc-4c15-9b82-f3cad56aa01f",
   "metadata": {},
   "outputs": [],
   "source": [
    "import pandas as pd\n",
    "from sklearn.model_selection import train_test_split\n",
    "from sklearn.feature_extraction.text import TfidfVectorizer\n",
    "from sklearn.linear_model import LogisticRegression\n",
    "from sklearn.metrics import classification_report\n",
    "import torch\n",
    "import torch.nn as nn\n",
    "from transformers import BertTokenizer, BertForSequenceClassification\n",
    "from keras.preprocessing.sequence import pad_sequences"
   ]
  },
  {
   "cell_type": "code",
   "execution_count": 6,
   "id": "b709f8ca-a644-493b-a98a-d2f54d9a4f7c",
   "metadata": {},
   "outputs": [],
   "source": [
    "# Загрузка данных\n",
    "df = pd.read_csv('data/amazon_reviews.csv')\n",
    "df = df[['reviews.text', 'reviews.rating']]  # Оставляем только необходимые колонки\n",
    "df.dropna(inplace=True)  # Удаляем пропущенные значения"
   ]
  },
  {
   "cell_type": "code",
   "execution_count": 7,
   "id": "0aa2e651-6ec0-43d6-8d75-9dc273254e83",
   "metadata": {},
   "outputs": [],
   "source": [
    "# Предобработка данных\n",
    "# Преобразуем рейтинги в бинарные метки (например, положительный отзыв = 1, отрицательный = 0)\n",
    "df['reviews.rating'] = df['reviews.rating'].apply(lambda x: 1 if x > 3 else 0)\n",
    "\n",
    "# Разделение данных\n",
    "X_train, X_test, y_train, y_test = train_test_split(df['reviews.text'], df['reviews.rating'], test_size=0.2, random_state=42)"
   ]
  },
  {
   "cell_type": "markdown",
   "id": "f068575e-d9c5-4421-88c3-3c210bcd3768",
   "metadata": {},
   "source": [
    "## Классический метод ML (TF-IDF + Логистическая регрессия)"
   ]
  },
  {
   "cell_type": "code",
   "execution_count": 26,
   "id": "804ffcb9-8bb9-464d-a5d9-9cc2ae020170",
   "metadata": {},
   "outputs": [
    {
     "name": "stdout",
     "output_type": "stream",
     "text": [
      "              precision    recall  f1-score   support\n",
      "\n",
      "           0       0.88      0.40      0.55       579\n",
      "           1       0.94      0.99      0.96      5088\n",
      "\n",
      "    accuracy                           0.93      5667\n",
      "   macro avg       0.91      0.70      0.76      5667\n",
      "weighted avg       0.93      0.93      0.92      5667\n",
      "\n"
     ]
    }
   ],
   "source": [
    "# Векторизация текстов\n",
    "vectorizer = TfidfVectorizer(max_features=5000)\n",
    "X_train_tfidf = vectorizer.fit_transform(X_train)\n",
    "X_test_tfidf = vectorizer.transform(X_test)\n",
    "\n",
    "# Обучение модели\n",
    "model_lr = LogisticRegression()\n",
    "model_lr.fit(X_train_tfidf, y_train)\n",
    "\n",
    "# Оценка модели\n",
    "predictions_lr = model_lr.predict(X_test_tfidf)\n",
    "print(classification_report(y_test, predictions_lr))\n"
   ]
  },
  {
   "cell_type": "markdown",
   "id": "f31c0e92-6c2c-434d-8aa9-916f30591895",
   "metadata": {},
   "source": [
    "## 📊 Отчёт по TF-IDF + Логистическая регрессия\r\n",
    "\r\n",
    "- ✅ **Положительные отзывы (класс 1):**\r\n",
    "  - Модель показывает **высокую точность и полноту** для класса 1, что означает эффективное определение положительных отзывов.\r\n",
    "\r\n",
    "- ❌ **Негативные отзывы (класс 0):**\r\n",
    "  - Производительность для класса 0 значительно **ниже**, предполагая трудности модели с идентификацией негативных отзывов.\r\n",
    "\r\n",
    "- 🎯 **Общая точность:**\r\n",
    "  - Модель достигает общей точности в **0.93**, что является довольно высоким показателем.\r\n",
    "\r\n",
    "- 📉 **Средняя f1-оценка по макро:**\r\n",
    "  - Среднее значение **0.76** может указывать на **различия между классами**.\r\n",
    "\r\n",
    "- 🔍 **Взвешенная средняя f1-оценка:**\r\n",
    "  - Значение в **0.92**, учитывающее поддержку, указывает на лучшую производительность модели на более частых метках.\r\n",
    "\r\n",
    "## 📝 Выводы\r\n",
    "\r\n",
    "- 🚀 **Модель логистической регрессии с TF-IDF** кажется **эффективной** на данном наборе данных, особенно для положительных отзывов.\r\n",
    "- ⚖️ **Дисбаланс классов** или другие проблемы могут снижать эффективность модели для негативны негативных отзывов.\r\n",
    "ках."
   ]
  },
  {
   "cell_type": "markdown",
   "id": "c9fdabd7-c536-46c4-9042-9d99a481bf08",
   "metadata": {},
   "source": [
    "## RNN"
   ]
  },
  {
   "cell_type": "code",
   "execution_count": 6,
   "id": "d7ea455d-f93f-41a0-a8a3-847893939377",
   "metadata": {},
   "outputs": [],
   "source": [
    "from keras.preprocessing.text import Tokenizer\n",
    "from keras.preprocessing.sequence import pad_sequences\n",
    "\n",
    "# Параметры\n",
    "max_len = 100 # Максимальная длина последовательности\n",
    "max_words = 10000 # Размер словаря\n",
    "\n",
    "# Инициализация и подгонка токенизатора\n",
    "tokenizer = Tokenizer(num_words=max_words)\n",
    "tokenizer.fit_on_texts(X_train) # Предполагается, что X_train - это список текстов для обучения\n",
    "\n",
    "# Преобразование текстов в последовательности индексов\n",
    "sequences = tokenizer.texts_to_sequences(X_train)\n",
    "\n",
    "# Паддинг последовательностей\n",
    "X_train_pad = pad_sequences(sequences, maxlen=max_len)"
   ]
  },
  {
   "cell_type": "code",
   "execution_count": 7,
   "id": "52afe212-27fe-4e65-a402-5fcdc7f3b1bf",
   "metadata": {},
   "outputs": [],
   "source": [
    "# Создание модели RNN\n",
    "model = Sequential()\n",
    "model.add(Embedding(max_words, 32)) # Слой векторных представлений слов\n",
    "model.add(SimpleRNN(32)) # RNN слой с 32 скрытыми состояниями\n",
    "model.add(Dense(1, activation='sigmoid')) # Выходной слой с сигмоидной активацией для классификации"
   ]
  },
  {
   "cell_type": "code",
   "execution_count": 9,
   "id": "448b9688-f1db-48e3-80a4-eda5d9006b37",
   "metadata": {},
   "outputs": [],
   "source": [
    "# Компиляция модели\n",
    "model.compile(optimizer='rmsprop', loss='binary_crossentropy', metrics=['acc'])"
   ]
  },
  {
   "cell_type": "code",
   "execution_count": 10,
   "id": "9aa6d84b-8589-4edb-8a46-c864675a4b3b",
   "metadata": {},
   "outputs": [
    {
     "name": "stdout",
     "output_type": "stream",
     "text": [
      "Epoch 1/20\n",
      "142/142 [==============================] - 2s 10ms/step - loss: 0.0342 - acc: 0.9894 - val_loss: 0.1939 - val_acc: 0.9477\n",
      "Epoch 2/20\n",
      "142/142 [==============================] - 1s 9ms/step - loss: 0.0250 - acc: 0.9926 - val_loss: 0.2137 - val_acc: 0.9479\n",
      "Epoch 3/20\n",
      "142/142 [==============================] - 1s 10ms/step - loss: 0.0197 - acc: 0.9950 - val_loss: 0.2694 - val_acc: 0.9283\n",
      "Epoch 4/20\n",
      "142/142 [==============================] - 1s 10ms/step - loss: 0.0191 - acc: 0.9947 - val_loss: 0.2282 - val_acc: 0.9475\n",
      "Epoch 5/20\n",
      "142/142 [==============================] - 1s 10ms/step - loss: 0.0162 - acc: 0.9956 - val_loss: 0.2435 - val_acc: 0.9431\n",
      "Epoch 6/20\n",
      "142/142 [==============================] - 1s 10ms/step - loss: 0.0205 - acc: 0.9941 - val_loss: 0.2443 - val_acc: 0.9440\n",
      "Epoch 7/20\n",
      "142/142 [==============================] - 1s 10ms/step - loss: 0.0120 - acc: 0.9970 - val_loss: 0.2512 - val_acc: 0.9477\n",
      "Epoch 8/20\n",
      "142/142 [==============================] - 1s 10ms/step - loss: 0.0169 - acc: 0.9946 - val_loss: 0.2688 - val_acc: 0.9380\n",
      "Epoch 9/20\n",
      "142/142 [==============================] - 1s 10ms/step - loss: 0.0135 - acc: 0.9964 - val_loss: 0.2708 - val_acc: 0.9418\n",
      "Epoch 10/20\n",
      "142/142 [==============================] - 1s 10ms/step - loss: 0.0112 - acc: 0.9975 - val_loss: 0.3040 - val_acc: 0.9307\n",
      "Epoch 11/20\n",
      "142/142 [==============================] - 1s 10ms/step - loss: 0.0106 - acc: 0.9976 - val_loss: 0.4304 - val_acc: 0.9014\n",
      "Epoch 12/20\n",
      "142/142 [==============================] - 1s 10ms/step - loss: 0.0116 - acc: 0.9971 - val_loss: 0.2824 - val_acc: 0.9442\n",
      "Epoch 13/20\n",
      "142/142 [==============================] - 1s 10ms/step - loss: 0.0087 - acc: 0.9978 - val_loss: 0.2768 - val_acc: 0.9444\n",
      "Epoch 14/20\n",
      "142/142 [==============================] - 1s 10ms/step - loss: 0.0183 - acc: 0.9951 - val_loss: 0.2948 - val_acc: 0.9373\n",
      "Epoch 15/20\n",
      "142/142 [==============================] - 1s 10ms/step - loss: 0.0084 - acc: 0.9978 - val_loss: 0.2906 - val_acc: 0.9420\n",
      "Epoch 16/20\n",
      "142/142 [==============================] - 1s 10ms/step - loss: 0.0095 - acc: 0.9974 - val_loss: 0.3144 - val_acc: 0.9358\n",
      "Epoch 17/20\n",
      "142/142 [==============================] - 1s 10ms/step - loss: 0.0138 - acc: 0.9962 - val_loss: 0.3002 - val_acc: 0.9407\n",
      "Epoch 18/20\n",
      "142/142 [==============================] - 1s 10ms/step - loss: 0.0078 - acc: 0.9980 - val_loss: 0.3135 - val_acc: 0.9391\n",
      "Epoch 19/20\n",
      "142/142 [==============================] - 1s 10ms/step - loss: 0.0478 - acc: 0.9879 - val_loss: 0.3104 - val_acc: 0.9376\n",
      "Epoch 20/20\n",
      "142/142 [==============================] - 1s 10ms/step - loss: 0.0127 - acc: 0.9966 - val_loss: 0.3100 - val_acc: 0.9396\n"
     ]
    },
    {
     "data": {
      "text/plain": [
       "<keras.src.callbacks.History at 0x18c03600ed0>"
      ]
     },
     "execution_count": 10,
     "metadata": {},
     "output_type": "execute_result"
    }
   ],
   "source": [
    "# Обучение модели\n",
    "model.fit(X_train_pad, y_train, epochs=20, batch_size=128, validation_split=0.2)"
   ]
  },
  {
   "cell_type": "markdown",
   "id": "d29b11da-7aa6-42aa-98ef-cefa29639aff",
   "metadata": {},
   "source": [
    "## 📈 Анализ результатов обучения\r\n",
    "\r\n",
    "- 🎯 **Точность на обучающем наборе данных (`acc`):**\r\n",
    "  - Увеличивается с течением времени, достигая в последней эпохе **99.66%**.\r\n",
    "  - Это указывает на способность модели корректно классифицировать данные, на которых она обучалась.\r\n",
    "\r\n",
    "- 📉 **Функция потерь на обучающем наборе данных (`loss`):**\r\n",
    "  - Уменьшается, что свидетельствует об улучшении производительности модели на обучающих данных.\r\n",
    "\r\n",
    "- 🚫 **Точность на валидационном наборе данных (`val_acc`):**\r\n",
    "  - Остается относительно стабильной после первой эпохи, в среднем около **94%**.\r\n",
    "  - Отсутствие стабильного увеличения может указывать на то, что модель не улучшает свою способность обобщать данные.\r\n",
    "\r\n",
    "- ⚠️ **Функция потерь на валидационном наборе данных (`val_loss`):**\r\n",
    "  - Начинает увеличиваться после 10-й эпохи, что может быть признаком **переобучения**.\r\n",
    "\r\n",
    "## 🔍 Выводы и следующие шаги\r\n",
    "\r\n",
    "- 🛠️ **Противодействие переобучению:**\r\n",
    "  - Рассмотреть использование методов регуляризации, таких как **Dropout**.\r\n",
    "  - Применить **раннюю остановку** (Early Stopping) для предотвращения дальнейшего переобучения.\r\n",
    "  - Использовать больший набор данных для валидации.\r\n",
    "\r\n",
    "- 🧪 **Эксперименты с гиперпараметрами:**\r\n",
    "  - Изменить количество эпох или размер пакета (batch size), чтобы найти оптимальный баланс между точностью и обобщающей способностью.\r\n",
    "\r\n",
    "- 📊 **Балансировка производительности:**\r\n",
    "  - Стремиться к улучшению производительности на валидационном наборе данных, чтобы модель лучше работала с новыми данными.\r\n",
    "работала с новыми данными.\r\n"
   ]
  },
  {
   "cell_type": "markdown",
   "id": "4258f072-b179-4080-ad36-b93ebe7b4993",
   "metadata": {},
   "source": [
    "## 🔰 Задание 3"
   ]
  },
  {
   "cell_type": "code",
   "execution_count": 1,
   "id": "3a8f6fe7-e4e4-4dab-9d5b-9afed1cf16d3",
   "metadata": {},
   "outputs": [
    {
     "name": "stderr",
     "output_type": "stream",
     "text": [
      "Some weights of the model checkpoint at bert-base-uncased were not used when initializing BertForMaskedLM: ['cls.seq_relationship.bias', 'bert.pooler.dense.bias', 'bert.pooler.dense.weight', 'cls.seq_relationship.weight']\n",
      "- This IS expected if you are initializing BertForMaskedLM from the checkpoint of a model trained on another task or with another architecture (e.g. initializing a BertForSequenceClassification model from a BertForPreTraining model).\n",
      "- This IS NOT expected if you are initializing BertForMaskedLM from the checkpoint of a model that you expect to be exactly identical (initializing a BertForSequenceClassification model from a BertForSequenceClassification model).\n"
     ]
    }
   ],
   "source": [
    "from transformers import BertTokenizer, BertForMaskedLM\n",
    "import torch\n",
    "\n",
    "# Функция для генерации текста с помощью BERT\n",
    "def generate_text_with_bert(model, tokenizer, text, top_k=5):\n",
    "    # Заменяем одно из слов на [MASK]\n",
    "    masked_index = text.find(' ')\n",
    "    masked_text = text[:masked_index] + \" [MASK]\" + text[masked_index+1:]\n",
    "    \n",
    "    # Кодируем текст\n",
    "    input_ids = tokenizer.encode(masked_text, return_tensors=\"pt\")\n",
    "    mask_token_index = torch.where(input_ids == tokenizer.mask_token_id)[1]\n",
    "\n",
    "    # Предсказываем маскированное слово\n",
    "    token_logits = model(input_ids).logits\n",
    "    mask_token_logits = token_logits[0, mask_token_index, :]\n",
    "    \n",
    "    # Выбираем top_k слов\n",
    "    top_k_tokens = torch.topk(mask_token_logits, top_k, dim=1).indices[0].tolist()\n",
    "    \n",
    "    # Генерируем тексты, заменяя [MASK] на каждое из top_k слов\n",
    "    for token in top_k_tokens:\n",
    "        word = tokenizer.decode([token])\n",
    "        new_text = text[:masked_index] + \" \" + word + text[masked_index:]\n",
    "        print(f\"Generated text: {new_text}\")\n",
    "\n",
    "# Загрузка модели и токенайзера для BERT (для английского языка)\n",
    "tokenizer_en = BertTokenizer.from_pretrained('bert-base-uncased')\n",
    "model_en = BertForMaskedLM.from_pretrained('bert-base-uncased')"
   ]
  },
  {
   "cell_type": "code",
   "execution_count": 2,
   "id": "58373db5-eb3f-4b10-983f-9e948b76f328",
   "metadata": {},
   "outputs": [
    {
     "name": "stdout",
     "output_type": "stream",
     "text": [
      "Generated text: Hello, and my name is [MASK].\n",
      "Generated text: Hello, but my name is [MASK].\n",
      "Generated text: Hello, \" my name is [MASK].\n",
      "Generated text: Hello, hi my name is [MASK].\n",
      "Generated text: Hello, hello my name is [MASK].\n"
     ]
    },
    {
     "data": {
      "application/vnd.jupyter.widget-view+json": {
       "model_id": "57a351264f6744cdabb872667a50f135",
       "version_major": 2,
       "version_minor": 0
      },
      "text/plain": [
       "tokenizer_config.json:   0%|          | 0.00/24.0 [00:00<?, ?B/s]"
      ]
     },
     "metadata": {},
     "output_type": "display_data"
    },
    {
     "name": "stderr",
     "output_type": "stream",
     "text": [
      "C:\\Users\\divin\\PycharmProjects\\neuralnets2\\venv\\Lib\\site-packages\\huggingface_hub\\file_download.py:147: UserWarning: `huggingface_hub` cache-system uses symlinks by default to efficiently store duplicated files but your machine does not support them in C:\\Users\\divin\\.cache\\huggingface\\hub. Caching files will still work but in a degraded version that might require more space on your disk. This warning can be disabled by setting the `HF_HUB_DISABLE_SYMLINKS_WARNING` environment variable. For more details, see https://huggingface.co/docs/huggingface_hub/how-to-cache#limitations.\n",
      "To support symlinks on Windows, you either need to activate Developer Mode or to run Python as an administrator. In order to see activate developer mode, see this article: https://docs.microsoft.com/en-us/windows/apps/get-started/enable-your-device-for-development\n",
      "  warnings.warn(message)\n"
     ]
    },
    {
     "data": {
      "application/vnd.jupyter.widget-view+json": {
       "model_id": "7f004569df7045dc9e748af3cb1bc117",
       "version_major": 2,
       "version_minor": 0
      },
      "text/plain": [
       "vocab.txt:   0%|          | 0.00/1.65M [00:00<?, ?B/s]"
      ]
     },
     "metadata": {},
     "output_type": "display_data"
    },
    {
     "data": {
      "application/vnd.jupyter.widget-view+json": {
       "model_id": "32ecfb082d4b48f5ae35527aed16a99e",
       "version_major": 2,
       "version_minor": 0
      },
      "text/plain": [
       "special_tokens_map.json:   0%|          | 0.00/112 [00:00<?, ?B/s]"
      ]
     },
     "metadata": {},
     "output_type": "display_data"
    },
    {
     "data": {
      "application/vnd.jupyter.widget-view+json": {
       "model_id": "ec3ebb2278f744eca289025b3b89c27d",
       "version_major": 2,
       "version_minor": 0
      },
      "text/plain": [
       "config.json:   0%|          | 0.00/642 [00:00<?, ?B/s]"
      ]
     },
     "metadata": {},
     "output_type": "display_data"
    },
    {
     "data": {
      "application/vnd.jupyter.widget-view+json": {
       "model_id": "307767316b8a46119c970bba94ed0f28",
       "version_major": 2,
       "version_minor": 0
      },
      "text/plain": [
       "pytorch_model.bin:   0%|          | 0.00/714M [00:00<?, ?B/s]"
      ]
     },
     "metadata": {},
     "output_type": "display_data"
    },
    {
     "name": "stdout",
     "output_type": "stream",
     "text": [
      "Generated text: Привет, что меня зовут [MASK].\n",
      "Generated text: Привет, как меня зовут [MASK].\n",
      "Generated text: Привет, теперь меня зовут [MASK].\n",
      "Generated text: Привет, все меня зовут [MASK].\n",
      "Generated text: Привет, почему меня зовут [MASK].\n"
     ]
    }
   ],
   "source": [
    "# Тестовый текст на английском языке\n",
    "text_en = \"Hello, my name is [MASK].\"\n",
    "generate_text_with_bert(model_en, tokenizer_en, text_en)\n",
    "\n",
    "# Загрузка модели и токенайзера для BERT (для русского языка)\n",
    "tokenizer_ru = BertTokenizer.from_pretrained('DeepPavlov/rubert-base-cased')\n",
    "model_ru = BertForMaskedLM.from_pretrained('DeepPavlov/rubert-base-cased')\n",
    "\n",
    "# Тестовый текст на русском языке\n",
    "text_ru = \"Привет, меня зовут [MASK].\"\n",
    "generate_text_with_bert(model_ru, tokenizer_ru, text_ru)"
   ]
  },
  {
   "cell_type": "markdown",
   "id": "f2d28f85-19a6-4257-ac9a-3631bdcc13e6",
   "metadata": {},
   "source": [
    "## Вывод"
   ]
  },
  {
   "cell_type": "markdown",
   "id": "b34ff77c-1b13-49ed-aa81-158136febafa",
   "metadata": {},
   "source": [
    "## 🔰 Задание 4"
   ]
  },
  {
   "cell_type": "code",
   "execution_count": null,
   "id": "02ec4893-1750-4966-8051-e54670fabbcb",
   "metadata": {},
   "outputs": [],
   "source": []
  }
 ],
 "metadata": {
  "kernelspec": {
   "display_name": "Python 3 (ipykernel)",
   "language": "python",
   "name": "python3"
  },
  "language_info": {
   "codemirror_mode": {
    "name": "ipython",
    "version": 3
   },
   "file_extension": ".py",
   "mimetype": "text/x-python",
   "name": "python",
   "nbconvert_exporter": "python",
   "pygments_lexer": "ipython3",
   "version": "3.11.3"
  }
 },
 "nbformat": 4,
 "nbformat_minor": 5
}
